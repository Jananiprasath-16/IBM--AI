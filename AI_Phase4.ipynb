{
 "cells": [
  {
   "cell_type": "code",
   "execution_count": 26,
   "id": "467df187",
   "metadata": {},
   "outputs": [],
   "source": [
    "import pandas as pd\n"
   ]
  },
  {
   "cell_type": "code",
   "execution_count": 27,
   "id": "a711b6b4",
   "metadata": {},
   "outputs": [],
   "source": [
    "df = pd.read_csv(\"D:\\JANA\\AI Naan Mudhalavan\\Dataset\\diabetes.csv\")"
   ]
  },
  {
   "cell_type": "code",
   "execution_count": 28,
   "id": "0a4bcf55",
   "metadata": {},
   "outputs": [
    {
     "data": {
      "text/html": [
       "<div>\n",
       "<style scoped>\n",
       "    .dataframe tbody tr th:only-of-type {\n",
       "        vertical-align: middle;\n",
       "    }\n",
       "\n",
       "    .dataframe tbody tr th {\n",
       "        vertical-align: top;\n",
       "    }\n",
       "\n",
       "    .dataframe thead th {\n",
       "        text-align: right;\n",
       "    }\n",
       "</style>\n",
       "<table border=\"1\" class=\"dataframe\">\n",
       "  <thead>\n",
       "    <tr style=\"text-align: right;\">\n",
       "      <th></th>\n",
       "      <th>Pregnancies</th>\n",
       "      <th>Glucose</th>\n",
       "      <th>BloodPressure</th>\n",
       "      <th>SkinThickness</th>\n",
       "      <th>Insulin</th>\n",
       "      <th>BMI</th>\n",
       "      <th>DiabetesPedigreeFunction</th>\n",
       "      <th>Age</th>\n",
       "      <th>Outcome</th>\n",
       "    </tr>\n",
       "  </thead>\n",
       "  <tbody>\n",
       "    <tr>\n",
       "      <th>0</th>\n",
       "      <td>6</td>\n",
       "      <td>148</td>\n",
       "      <td>72</td>\n",
       "      <td>35</td>\n",
       "      <td>0</td>\n",
       "      <td>33.6</td>\n",
       "      <td>0.627</td>\n",
       "      <td>50</td>\n",
       "      <td>1</td>\n",
       "    </tr>\n",
       "    <tr>\n",
       "      <th>1</th>\n",
       "      <td>1</td>\n",
       "      <td>85</td>\n",
       "      <td>66</td>\n",
       "      <td>29</td>\n",
       "      <td>0</td>\n",
       "      <td>26.6</td>\n",
       "      <td>0.351</td>\n",
       "      <td>31</td>\n",
       "      <td>0</td>\n",
       "    </tr>\n",
       "    <tr>\n",
       "      <th>2</th>\n",
       "      <td>8</td>\n",
       "      <td>183</td>\n",
       "      <td>64</td>\n",
       "      <td>0</td>\n",
       "      <td>0</td>\n",
       "      <td>23.3</td>\n",
       "      <td>0.672</td>\n",
       "      <td>32</td>\n",
       "      <td>1</td>\n",
       "    </tr>\n",
       "    <tr>\n",
       "      <th>3</th>\n",
       "      <td>1</td>\n",
       "      <td>89</td>\n",
       "      <td>66</td>\n",
       "      <td>23</td>\n",
       "      <td>94</td>\n",
       "      <td>28.1</td>\n",
       "      <td>0.167</td>\n",
       "      <td>21</td>\n",
       "      <td>0</td>\n",
       "    </tr>\n",
       "    <tr>\n",
       "      <th>4</th>\n",
       "      <td>0</td>\n",
       "      <td>137</td>\n",
       "      <td>40</td>\n",
       "      <td>35</td>\n",
       "      <td>168</td>\n",
       "      <td>43.1</td>\n",
       "      <td>2.288</td>\n",
       "      <td>33</td>\n",
       "      <td>1</td>\n",
       "    </tr>\n",
       "  </tbody>\n",
       "</table>\n",
       "</div>"
      ],
      "text/plain": [
       "   Pregnancies  Glucose  BloodPressure  SkinThickness  Insulin   BMI   \n",
       "0            6      148             72             35        0  33.6  \\\n",
       "1            1       85             66             29        0  26.6   \n",
       "2            8      183             64              0        0  23.3   \n",
       "3            1       89             66             23       94  28.1   \n",
       "4            0      137             40             35      168  43.1   \n",
       "\n",
       "   DiabetesPedigreeFunction  Age  Outcome  \n",
       "0                     0.627   50        1  \n",
       "1                     0.351   31        0  \n",
       "2                     0.672   32        1  \n",
       "3                     0.167   21        0  \n",
       "4                     2.288   33        1  "
      ]
     },
     "execution_count": 28,
     "metadata": {},
     "output_type": "execute_result"
    }
   ],
   "source": [
    "df.head()\n"
   ]
  },
  {
   "cell_type": "code",
   "execution_count": 29,
   "id": "ee7921c5",
   "metadata": {},
   "outputs": [
    {
     "data": {
      "text/plain": [
       "(768, 9)"
      ]
     },
     "execution_count": 29,
     "metadata": {},
     "output_type": "execute_result"
    }
   ],
   "source": [
    "df.shape"
   ]
  },
  {
   "cell_type": "code",
   "execution_count": 30,
   "id": "c82cb756",
   "metadata": {},
   "outputs": [
    {
     "data": {
      "text/plain": [
       "Index(['Pregnancies', 'Glucose', 'BloodPressure', 'SkinThickness', 'Insulin',\n",
       "       'BMI', 'DiabetesPedigreeFunction', 'Age', 'Outcome'],\n",
       "      dtype='object')"
      ]
     },
     "execution_count": 30,
     "metadata": {},
     "output_type": "execute_result"
    }
   ],
   "source": [
    "df.columns"
   ]
  },
  {
   "cell_type": "code",
   "execution_count": 31,
   "id": "9e03ae67",
   "metadata": {},
   "outputs": [
    {
     "name": "stdout",
     "output_type": "stream",
     "text": [
      "<class 'pandas.core.frame.DataFrame'>\n",
      "RangeIndex: 768 entries, 0 to 767\n",
      "Data columns (total 9 columns):\n",
      " #   Column                    Non-Null Count  Dtype  \n",
      "---  ------                    --------------  -----  \n",
      " 0   Pregnancies               768 non-null    int64  \n",
      " 1   Glucose                   768 non-null    int64  \n",
      " 2   BloodPressure             768 non-null    int64  \n",
      " 3   SkinThickness             768 non-null    int64  \n",
      " 4   Insulin                   768 non-null    int64  \n",
      " 5   BMI                       768 non-null    float64\n",
      " 6   DiabetesPedigreeFunction  768 non-null    float64\n",
      " 7   Age                       768 non-null    int64  \n",
      " 8   Outcome                   768 non-null    int64  \n",
      "dtypes: float64(2), int64(7)\n",
      "memory usage: 54.1 KB\n"
     ]
    }
   ],
   "source": [
    "df.info()\n",
    "\n"
   ]
  },
  {
   "cell_type": "code",
   "execution_count": 32,
   "id": "8da442ba",
   "metadata": {},
   "outputs": [],
   "source": [
    "from sklearn.preprocessing import StandardScaler"
   ]
  },
  {
   "cell_type": "code",
   "execution_count": 33,
   "id": "f21715e2",
   "metadata": {},
   "outputs": [],
   "source": [
    "scalar = StandardScaler()"
   ]
  },
  {
   "cell_type": "code",
   "execution_count": 34,
   "id": "d7f611b5",
   "metadata": {},
   "outputs": [],
   "source": [
    "df[['Pregnancies', 'Glucose', 'BloodPressure', 'SkinThickness', 'Insulin', 'BMI', 'Age']] = scalar.fit_transform(df[['Pregnancies', 'Glucose', 'BloodPressure', 'SkinThickness', 'Insulin', 'BMI', 'Age']])"
   ]
  },
  {
   "cell_type": "code",
   "execution_count": 35,
   "id": "979631f3",
   "metadata": {},
   "outputs": [],
   "source": [
    "from sklearn.feature_selection import SelectKBest, chi2"
   ]
  },
  {
   "cell_type": "code",
   "execution_count": 36,
   "id": "034a09c0",
   "metadata": {},
   "outputs": [
    {
     "name": "stderr",
     "output_type": "stream",
     "text": [
      "C:\\Users\\Admin\\AppData\\Local\\Temp\\ipykernel_20572\\138726971.py:2: SettingWithCopyWarning: \n",
      "A value is trying to be set on a copy of a slice from a DataFrame.\n",
      "Try using .loc[row_indexer,col_indexer] = value instead\n",
      "\n",
      "See the caveats in the documentation: https://pandas.pydata.org/pandas-docs/stable/user_guide/indexing.html#returning-a-view-versus-a-copy\n",
      "  X[X < 0] = 0\n",
      "C:\\Users\\Admin\\AppData\\Local\\Temp\\ipykernel_20572\\138726971.py:2: SettingWithCopyWarning: \n",
      "A value is trying to be set on a copy of a slice from a DataFrame\n",
      "\n",
      "See the caveats in the documentation: https://pandas.pydata.org/pandas-docs/stable/user_guide/indexing.html#returning-a-view-versus-a-copy\n",
      "  X[X < 0] = 0\n"
     ]
    }
   ],
   "source": [
    "X = df[['Pregnancies', 'Glucose', 'BloodPressure', 'SkinThickness', 'Insulin', 'BMI', 'Age']]\n",
    "X[X < 0] = 0\n"
   ]
  },
  {
   "cell_type": "code",
   "execution_count": 37,
   "id": "cb26f2b2",
   "metadata": {},
   "outputs": [],
   "source": [
    "selector = SelectKBest(chi2, k=5)\n",
    "X = selector.fit_transform(X, df['Outcome'])"
   ]
  },
  {
   "cell_type": "code",
   "execution_count": 38,
   "id": "35e04946",
   "metadata": {},
   "outputs": [],
   "source": [
    "from sklearn.model_selection import train_test_split\n",
    "\n",
    "X_train, X_test, y_train, y_test = train_test_split(X, df['Outcome'], test_size=0.25, random_state=42)"
   ]
  },
  {
   "cell_type": "code",
   "execution_count": 39,
   "id": "7ce3e933",
   "metadata": {},
   "outputs": [
    {
     "data": {
      "text/plain": [
       "array([[2.7187125 , 0.25367803, 0.        , 1.00360402, 0.91546889],\n",
       "       [0.04601433, 0.25367803, 1.65149133, 0.39439164, 0.        ],\n",
       "       [0.        , 0.        , 0.        , 0.30554817, 1.08564439],\n",
       "       ...,\n",
       "       [1.82781311, 0.        , 0.        , 1.72704372, 0.40494237],\n",
       "       [0.        , 0.62924378, 0.        , 1.32090213, 0.        ],\n",
       "       [0.        , 0.12848945, 0.        , 0.        , 0.        ]])"
      ]
     },
     "execution_count": 39,
     "metadata": {},
     "output_type": "execute_result"
    }
   ],
   "source": [
    "X_train"
   ]
  },
  {
   "cell_type": "code",
   "execution_count": 40,
   "id": "9bd15569",
   "metadata": {},
   "outputs": [
    {
     "data": {
      "text/plain": [
       "array([[6.39947260e-01, 0.00000000e+00, 9.56859653e-01, 2.54780469e-01,\n",
       "        8.30381132e-01],\n",
       "       [0.00000000e+00, 0.00000000e+00, 0.00000000e+00, 4.70543187e-01,\n",
       "        0.00000000e+00],\n",
       "       [0.00000000e+00, 0.00000000e+00, 0.00000000e+00, 0.00000000e+00,\n",
       "        0.00000000e+00],\n",
       "       [1.23388019e+00, 0.00000000e+00, 0.00000000e+00, 0.00000000e+00,\n",
       "        6.45913543e-02],\n",
       "       [9.36913723e-01, 4.72758051e-01, 0.00000000e+00, 0.00000000e+00,\n",
       "        1.42599540e+00],\n",
       "       [6.39947260e-01, 0.00000000e+00, 9.56859653e-01, 7.24381677e-01,\n",
       "        1.85143417e+00],\n",
       "       [0.00000000e+00, 0.00000000e+00, 0.00000000e+00, 0.00000000e+00,\n",
       "        0.00000000e+00],\n",
       "       [0.00000000e+00, 0.00000000e+00, 0.00000000e+00, 2.29396620e-01,\n",
       "        9.15468886e-01],\n",
       "       [4.60143347e-02, 1.03610667e+00, 4.01154314e-01, 0.00000000e+00,\n",
       "        3.19854614e-01],\n",
       "       [3.42980797e-01, 8.17026649e-01, 0.00000000e+00, 2.16704696e-01,\n",
       "        2.70231170e+00],\n",
       "       [1.82781311e+00, 0.00000000e+00, 0.00000000e+00, 0.00000000e+00,\n",
       "        5.75117873e-01],\n",
       "       [9.36913723e-01, 1.81853530e+00, 0.00000000e+00, 2.80164319e-01,\n",
       "        2.27687294e+00],\n",
       "       [4.60143347e-02, 8.48323795e-01, 2.06827033e+00, 0.00000000e+00,\n",
       "        0.00000000e+00],\n",
       "       [3.42980797e-01, 0.00000000e+00, 0.00000000e+00, 2.04012771e-01,\n",
       "        8.30381132e-01],\n",
       "       [0.00000000e+00, 0.00000000e+00, 0.00000000e+00, 0.00000000e+00,\n",
       "        0.00000000e+00],\n",
       "       [0.00000000e+00, 1.28489452e-01, 7.57153047e-01, 1.65936998e-01,\n",
       "        0.00000000e+00],\n",
       "       [0.00000000e+00, 0.00000000e+00, 0.00000000e+00, 6.60922055e-01,\n",
       "        0.00000000e+00],\n",
       "       [3.42980797e-01, 0.00000000e+00, 0.00000000e+00, 0.00000000e+00,\n",
       "        0.00000000e+00],\n",
       "       [4.60143347e-02, 1.94372388e+00, 0.00000000e+00, 0.00000000e+00,\n",
       "        2.34766861e-01],\n",
       "       [0.00000000e+00, 5.97946632e-01, 4.35885898e-01, 1.34628598e+00,\n",
       "        0.00000000e+00],\n",
       "       [3.42980797e-01, 0.00000000e+00, 0.00000000e+00, 0.00000000e+00,\n",
       "        1.25581990e+00],\n",
       "       [0.00000000e+00, 0.00000000e+00, 0.00000000e+00, 9.41978774e-04,\n",
       "        0.00000000e+00],\n",
       "       [2.71871250e+00, 0.00000000e+00, 0.00000000e+00, 5.84770507e-01,\n",
       "        1.00055664e+00],\n",
       "       [0.00000000e+00, 0.00000000e+00, 6.25213730e-02, 1.53245073e-01,\n",
       "        0.00000000e+00],\n",
       "       [1.82781311e+00, 2.53678033e-01, 3.66422730e-01, 4.95927036e-01,\n",
       "        4.90030120e-01],\n",
       "       [9.36913723e-01, 1.97502103e+00, 0.00000000e+00, 4.45159338e-01,\n",
       "        6.60205626e-01],\n",
       "       [6.39947260e-01, 0.00000000e+00, 0.00000000e+00, 0.00000000e+00,\n",
       "        0.00000000e+00],\n",
       "       [0.00000000e+00, 0.00000000e+00, 0.00000000e+00, 0.00000000e+00,\n",
       "        0.00000000e+00],\n",
       "       [0.00000000e+00, 0.00000000e+00, 3.49056938e-01, 1.71435179e+00,\n",
       "        0.00000000e+00],\n",
       "       [0.00000000e+00, 0.00000000e+00, 4.51555811e-02, 0.00000000e+00,\n",
       "        4.04942367e-01],\n",
       "       [0.00000000e+00, 1.28648383e+00, 1.75399020e-01, 2.69162998e+00,\n",
       "        0.00000000e+00],\n",
       "       [4.60143347e-02, 7.85729504e-01, 0.00000000e+00, 8.25917074e-01,\n",
       "        2.87248721e+00],\n",
       "       [4.60143347e-02, 1.97502103e+00, 1.71227160e+00, 6.35538206e-01,\n",
       "        0.00000000e+00],\n",
       "       [0.00000000e+00, 1.44296956e+00, 0.00000000e+00, 3.90177524e-02,\n",
       "        0.00000000e+00],\n",
       "       [0.00000000e+00, 0.00000000e+00, 0.00000000e+00, 1.35897790e+00,\n",
       "        1.76634642e+00],\n",
       "       [1.53084665e+00, 9.73512376e-01, 7.91884630e-01, 2.80164319e-01,\n",
       "        0.00000000e+00],\n",
       "       [0.00000000e+00, 2.38188392e+00, 0.00000000e+00, 3.43623941e-01,\n",
       "        2.44704844e+00],\n",
       "       [0.00000000e+00, 0.00000000e+00, 0.00000000e+00, 6.44016015e-02,\n",
       "        4.04942367e-01],\n",
       "       [2.42174604e+00, 3.30087080e-03, 0.00000000e+00, 0.00000000e+00,\n",
       "        2.44704844e+00],\n",
       "       [0.00000000e+00, 3.16272324e-01, 0.00000000e+00, 1.42243753e+00,\n",
       "        0.00000000e+00],\n",
       "       [4.60143347e-02, 0.00000000e+00, 0.00000000e+00, 0.00000000e+00,\n",
       "        0.00000000e+00],\n",
       "       [0.00000000e+00, 4.41460905e-01, 0.00000000e+00, 0.00000000e+00,\n",
       "        2.44704844e+00],\n",
       "       [3.42980797e-01, 0.00000000e+00, 0.00000000e+00, 5.08618960e-01,\n",
       "        2.27687294e+00],\n",
       "       [2.71871250e+00, 0.00000000e+00, 0.00000000e+00, 0.00000000e+00,\n",
       "        4.04942367e-01],\n",
       "       [6.39947260e-01, 0.00000000e+00, 0.00000000e+00, 0.00000000e+00,\n",
       "        0.00000000e+00],\n",
       "       [0.00000000e+00, 1.16129525e+00, 1.43441893e+00, 0.00000000e+00,\n",
       "        0.00000000e+00],\n",
       "       [4.60143347e-02, 0.00000000e+00, 1.10446888e+00, 6.48230130e-01,\n",
       "        1.93652192e+00],\n",
       "       [3.42980797e-01, 0.00000000e+00, 0.00000000e+00, 7.24381677e-01,\n",
       "        0.00000000e+00],\n",
       "       [1.23388019e+00, 0.00000000e+00, 0.00000000e+00, 0.00000000e+00,\n",
       "        2.10669743e+00],\n",
       "       [0.00000000e+00, 1.63075243e+00, 1.60807685e+00, 1.84127104e+00,\n",
       "        2.10669743e+00],\n",
       "       [4.60143347e-02, 0.00000000e+00, 0.00000000e+00, 0.00000000e+00,\n",
       "        0.00000000e+00],\n",
       "       [1.53084665e+00, 7.54432359e-01, 7.39787255e-01, 0.00000000e+00,\n",
       "        1.68125866e+00],\n",
       "       [2.42174604e+00, 5.97946632e-01, 2.12905060e+00, 9.14760545e-01,\n",
       "        2.10669743e+00],\n",
       "       [0.00000000e+00, 4.10163760e-01, 0.00000000e+00, 0.00000000e+00,\n",
       "        0.00000000e+00],\n",
       "       [0.00000000e+00, 5.66649487e-01, 1.13051757e+00, 0.00000000e+00,\n",
       "        0.00000000e+00],\n",
       "       [0.00000000e+00, 0.00000000e+00, 0.00000000e+00, 0.00000000e+00,\n",
       "        0.00000000e+00],\n",
       "       [3.42980797e-01, 1.16129525e+00, 0.00000000e+00, 0.00000000e+00,\n",
       "        2.53213620e+00],\n",
       "       [0.00000000e+00, 0.00000000e+00, 0.00000000e+00, 0.00000000e+00,\n",
       "        0.00000000e+00],\n",
       "       [0.00000000e+00, 3.30087080e-03, 1.31984540e-01, 9.02068621e-01,\n",
       "        0.00000000e+00],\n",
       "       [3.42980797e-01, 1.47426670e+00, 0.00000000e+00, 1.15169300e-01,\n",
       "        6.60205626e-01],\n",
       "       [1.23388019e+00, 1.03610667e+00, 0.00000000e+00, 5.17096769e-02,\n",
       "        1.00055664e+00],\n",
       "       [0.00000000e+00, 3.45980161e-02, 0.00000000e+00, 6.10154356e-01,\n",
       "        0.00000000e+00],\n",
       "       [6.39947260e-01, 2.53678033e-01, 2.13773350e+00, 0.00000000e+00,\n",
       "        2.27687294e+00],\n",
       "       [2.42174604e+00, 0.00000000e+00, 1.54729658e+00, 0.00000000e+00,\n",
       "        9.15468886e-01],\n",
       "       [0.00000000e+00, 0.00000000e+00, 3.92471418e-01, 7.87841300e-01,\n",
       "        0.00000000e+00],\n",
       "       [0.00000000e+00, 8.17026649e-01, 0.00000000e+00, 1.37166983e+00,\n",
       "        0.00000000e+00],\n",
       "       [0.00000000e+00, 0.00000000e+00, 0.00000000e+00, 0.00000000e+00,\n",
       "        0.00000000e+00],\n",
       "       [3.42980797e-01, 5.04055196e-01, 0.00000000e+00, 2.13318530e+00,\n",
       "        3.19854614e-01],\n",
       "       [0.00000000e+00, 0.00000000e+00, 0.00000000e+00, 0.00000000e+00,\n",
       "        0.00000000e+00],\n",
       "       [0.00000000e+00, 1.59945528e+00, 4.33450617e+00, 1.32090213e+00,\n",
       "        0.00000000e+00],\n",
       "       [9.36913723e-01, 9.10918085e-01, 2.27665983e+00, 3.43623941e-01,\n",
       "        7.45293379e-01],\n",
       "       [4.60143347e-02, 0.00000000e+00, 0.00000000e+00, 0.00000000e+00,\n",
       "        6.45913543e-02],\n",
       "       [1.53084665e+00, 0.00000000e+00, 0.00000000e+00, 0.00000000e+00,\n",
       "        2.10669743e+00],\n",
       "       [0.00000000e+00, 0.00000000e+00, 0.00000000e+00, 6.86305904e-01,\n",
       "        0.00000000e+00],\n",
       "       [6.39947260e-01, 0.00000000e+00, 0.00000000e+00, 0.00000000e+00,\n",
       "        0.00000000e+00],\n",
       "       [3.42980797e-01, 0.00000000e+00, 0.00000000e+00, 9.14760545e-01,\n",
       "        2.70231170e+00],\n",
       "       [0.00000000e+00, 0.00000000e+00, 0.00000000e+00, 0.00000000e+00,\n",
       "        1.68125866e+00],\n",
       "       [0.00000000e+00, 0.00000000e+00, 3.05642459e-01, 0.00000000e+00,\n",
       "        4.90030120e-01],\n",
       "       [0.00000000e+00, 0.00000000e+00, 9.39493861e-01, 0.00000000e+00,\n",
       "        0.00000000e+00],\n",
       "       [4.60143347e-02, 0.00000000e+00, 0.00000000e+00, 7.11689753e-01,\n",
       "        0.00000000e+00],\n",
       "       [9.36913723e-01, 1.19259239e+00, 0.00000000e+00, 0.00000000e+00,\n",
       "        2.34766861e-01],\n",
       "       [0.00000000e+00, 0.00000000e+00, 0.00000000e+00, 2.04012771e-01,\n",
       "        0.00000000e+00],\n",
       "       [0.00000000e+00, 0.00000000e+00, 0.00000000e+00, 0.00000000e+00,\n",
       "        0.00000000e+00],\n",
       "       [0.00000000e+00, 4.41460905e-01, 5.66129337e-01, 1.09244749e+00,\n",
       "        0.00000000e+00],\n",
       "       [0.00000000e+00, 0.00000000e+00, 1.05935853e-01, 3.69007790e-01,\n",
       "        0.00000000e+00],\n",
       "       [0.00000000e+00, 2.06891246e+00, 1.04368861e+00, 5.59386658e-01,\n",
       "        2.34766861e-01],\n",
       "       [9.36913723e-01, 9.73512376e-01, 0.00000000e+00, 2.28548840e+00,\n",
       "        2.34766861e-01],\n",
       "       [0.00000000e+00, 9.71923068e-02, 1.08710309e+00, 1.15169300e-01,\n",
       "        0.00000000e+00],\n",
       "       [3.42980797e-01, 0.00000000e+00, 0.00000000e+00, 0.00000000e+00,\n",
       "        0.00000000e+00],\n",
       "       [0.00000000e+00, 0.00000000e+00, 0.00000000e+00, 8.97854505e-02,\n",
       "        0.00000000e+00],\n",
       "       [0.00000000e+00, 0.00000000e+00, 1.05935853e-01, 0.00000000e+00,\n",
       "        0.00000000e+00],\n",
       "       [4.60143347e-02, 0.00000000e+00, 0.00000000e+00, 1.29551828e+00,\n",
       "        0.00000000e+00],\n",
       "       [0.00000000e+00, 0.00000000e+00, 0.00000000e+00, 0.00000000e+00,\n",
       "        0.00000000e+00],\n",
       "       [1.23388019e+00, 0.00000000e+00, 0.00000000e+00, 0.00000000e+00,\n",
       "        4.04942367e-01],\n",
       "       [0.00000000e+00, 6.58951615e-02, 7.39787255e-01, 1.28282636e+00,\n",
       "        0.00000000e+00],\n",
       "       [0.00000000e+00, 7.23135213e-01, 0.00000000e+00, 1.18129096e+00,\n",
       "        0.00000000e+00],\n",
       "       [1.53084665e+00, 0.00000000e+00, 0.00000000e+00, 0.00000000e+00,\n",
       "        7.45293379e-01],\n",
       "       [0.00000000e+00, 0.00000000e+00, 0.00000000e+00, 6.10154356e-01,\n",
       "        0.00000000e+00],\n",
       "       [0.00000000e+00, 1.75594101e+00, 3.45753368e+00, 3.30932017e-01,\n",
       "        0.00000000e+00],\n",
       "       [9.36913723e-01, 0.00000000e+00, 0.00000000e+00, 7.70935260e-02,\n",
       "        6.60205626e-01],\n",
       "       [0.00000000e+00, 1.34907812e+00, 0.00000000e+00, 1.02477375e-01,\n",
       "        1.42599540e+00],\n",
       "       [0.00000000e+00, 0.00000000e+00, 0.00000000e+00, 6.22846281e-01,\n",
       "        0.00000000e+00],\n",
       "       [2.71871250e+00, 1.59786597e-01, 0.00000000e+00, 1.44782138e+00,\n",
       "        7.45293379e-01],\n",
       "       [0.00000000e+00, 7.85729504e-01, 9.91591237e-01, 7.87841300e-01,\n",
       "        0.00000000e+00],\n",
       "       [4.60143347e-02, 1.16129525e+00, 0.00000000e+00, 1.15169300e-01,\n",
       "        0.00000000e+00],\n",
       "       [0.00000000e+00, 0.00000000e+00, 6.96372775e-01, 8.13225149e-01,\n",
       "        0.00000000e+00],\n",
       "       [0.00000000e+00, 6.29243777e-01, 4.18520106e-01, 0.00000000e+00,\n",
       "        0.00000000e+00],\n",
       "       [0.00000000e+00, 1.63075243e+00, 9.13445173e-01, 2.29396620e-01,\n",
       "        0.00000000e+00],\n",
       "       [0.00000000e+00, 0.00000000e+00, 0.00000000e+00, 2.80164319e-01,\n",
       "        0.00000000e+00],\n",
       "       [9.36913723e-01, 0.00000000e+00, 0.00000000e+00, 4.95927036e-01,\n",
       "        8.30381132e-01],\n",
       "       [4.60143347e-02, 0.00000000e+00, 0.00000000e+00, 0.00000000e+00,\n",
       "        0.00000000e+00],\n",
       "       [0.00000000e+00, 1.69334672e+00, 0.00000000e+00, 0.00000000e+00,\n",
       "        0.00000000e+00],\n",
       "       [9.36913723e-01, 0.00000000e+00, 0.00000000e+00, 0.00000000e+00,\n",
       "        0.00000000e+00],\n",
       "       [1.23388019e+00, 1.44296956e+00, 1.31285839e+00, 7.11689753e-01,\n",
       "        8.30381132e-01],\n",
       "       [0.00000000e+00, 0.00000000e+00, 8.35299110e-01, 3.05548168e-01,\n",
       "        0.00000000e+00],\n",
       "       [0.00000000e+00, 9.71923068e-02, 0.00000000e+00, 4.83235111e-01,\n",
       "        0.00000000e+00],\n",
       "       [0.00000000e+00, 1.28648383e+00, 0.00000000e+00, 6.60922055e-01,\n",
       "        0.00000000e+00],\n",
       "       [4.60143347e-02, 0.00000000e+00, 0.00000000e+00, 0.00000000e+00,\n",
       "        0.00000000e+00],\n",
       "       [0.00000000e+00, 0.00000000e+00, 0.00000000e+00, 0.00000000e+00,\n",
       "        0.00000000e+00],\n",
       "       [1.82781311e+00, 0.00000000e+00, 0.00000000e+00, 4.19775488e-01,\n",
       "        0.00000000e+00],\n",
       "       [0.00000000e+00, 0.00000000e+00, 0.00000000e+00, 0.00000000e+00,\n",
       "        0.00000000e+00],\n",
       "       [0.00000000e+00, 0.00000000e+00, 0.00000000e+00, 1.07975556e+00,\n",
       "        0.00000000e+00],\n",
       "       [1.53084665e+00, 0.00000000e+00, 0.00000000e+00, 0.00000000e+00,\n",
       "        0.00000000e+00],\n",
       "       [0.00000000e+00, 0.00000000e+00, 0.00000000e+00, 0.00000000e+00,\n",
       "        0.00000000e+00],\n",
       "       [0.00000000e+00, 9.42215231e-01, 0.00000000e+00, 0.00000000e+00,\n",
       "        0.00000000e+00],\n",
       "       [1.82781311e+00, 0.00000000e+00, 8.70030694e-01, 1.15169300e-01,\n",
       "        2.53213620e+00],\n",
       "       [1.82781311e+00, 0.00000000e+00, 0.00000000e+00, 0.00000000e+00,\n",
       "        0.00000000e+00],\n",
       "       [2.12477957e+00, 1.06740381e+00, 6.09543816e-01, 1.65936998e-01,\n",
       "        1.51108316e+00],\n",
       "       [2.12477957e+00, 4.41460905e-01, 0.00000000e+00, 2.57740266e+00,\n",
       "        5.75117873e-01],\n",
       "       [4.60143347e-02, 2.13150675e+00, 0.00000000e+00, 0.00000000e+00,\n",
       "        3.19854614e-01],\n",
       "       [1.23388019e+00, 1.94372388e+00, 0.00000000e+00, 0.00000000e+00,\n",
       "        0.00000000e+00],\n",
       "       [2.42174604e+00, 9.42215231e-01, 1.66017422e+00, 1.24475058e+00,\n",
       "        4.04942367e-01],\n",
       "       [0.00000000e+00, 0.00000000e+00, 8.87396486e-01, 0.00000000e+00,\n",
       "        0.00000000e+00],\n",
       "       [2.12477957e+00, 4.72758051e-01, 4.35885898e-01, 0.00000000e+00,\n",
       "        7.45293379e-01],\n",
       "       [0.00000000e+00, 1.88112959e+00, 1.85119793e+00, 1.01629594e+00,\n",
       "        0.00000000e+00],\n",
       "       [0.00000000e+00, 0.00000000e+00, 0.00000000e+00, 0.00000000e+00,\n",
       "        0.00000000e+00],\n",
       "       [1.23388019e+00, 0.00000000e+00, 0.00000000e+00, 0.00000000e+00,\n",
       "        0.00000000e+00],\n",
       "       [2.71871250e+00, 1.16129525e+00, 0.00000000e+00, 1.30821021e+00,\n",
       "        9.15468886e-01],\n",
       "       [9.36913723e-01, 9.10918085e-01, 4.01154314e-01, 4.07083564e-01,\n",
       "        1.76634642e+00],\n",
       "       [0.00000000e+00, 0.00000000e+00, 0.00000000e+00, 0.00000000e+00,\n",
       "        0.00000000e+00],\n",
       "       [0.00000000e+00, 0.00000000e+00, 0.00000000e+00, 0.00000000e+00,\n",
       "        0.00000000e+00],\n",
       "       [0.00000000e+00, 0.00000000e+00, 0.00000000e+00, 0.00000000e+00,\n",
       "        0.00000000e+00],\n",
       "       [0.00000000e+00, 5.66649487e-01, 0.00000000e+00, 0.00000000e+00,\n",
       "        0.00000000e+00],\n",
       "       [0.00000000e+00, 5.66649487e-01, 3.47489947e+00, 1.10513941e+00,\n",
       "        0.00000000e+00],\n",
       "       [0.00000000e+00, 0.00000000e+00, 0.00000000e+00, 4.19775488e-01,\n",
       "        0.00000000e+00],\n",
       "       [1.23388019e+00, 0.00000000e+00, 0.00000000e+00, 8.00533225e-01,\n",
       "        4.90030120e-01],\n",
       "       [3.42980797e-01, 0.00000000e+00, 0.00000000e+00, 0.00000000e+00,\n",
       "        0.00000000e+00],\n",
       "       [0.00000000e+00, 0.00000000e+00, 0.00000000e+00, 0.00000000e+00,\n",
       "        0.00000000e+00],\n",
       "       [4.60143347e-02, 0.00000000e+00, 0.00000000e+00, 9.40144394e-01,\n",
       "        4.04942367e-01],\n",
       "       [1.53084665e+00, 1.38037527e+00, 0.00000000e+00, 0.00000000e+00,\n",
       "        1.34090765e+00],\n",
       "       [0.00000000e+00, 0.00000000e+00, 0.00000000e+00, 1.65936998e-01,\n",
       "        0.00000000e+00],\n",
       "       [1.23388019e+00, 0.00000000e+00, 0.00000000e+00, 6.10154356e-01,\n",
       "        2.02160968e+00],\n",
       "       [0.00000000e+00, 7.85729504e-01, 2.43295196e+00, 0.00000000e+00,\n",
       "        0.00000000e+00],\n",
       "       [1.23388019e+00, 0.00000000e+00, 0.00000000e+00, 4.19775488e-01,\n",
       "        4.90030120e-01],\n",
       "       [0.00000000e+00, 0.00000000e+00, 0.00000000e+00, 0.00000000e+00,\n",
       "        0.00000000e+00],\n",
       "       [1.53084665e+00, 0.00000000e+00, 0.00000000e+00, 0.00000000e+00,\n",
       "        1.42599540e+00],\n",
       "       [0.00000000e+00, 5.66649487e-01, 2.77897893e-02, 0.00000000e+00,\n",
       "        0.00000000e+00],\n",
       "       [0.00000000e+00, 1.25518668e+00, 0.00000000e+00, 0.00000000e+00,\n",
       "        2.70231170e+00],\n",
       "       [6.39947260e-01, 4.10163760e-01, 2.51978092e+00, 1.80319526e+00,\n",
       "        1.08564439e+00],\n",
       "       [0.00000000e+00, 2.84975179e-01, 2.18813500e-01, 0.00000000e+00,\n",
       "        0.00000000e+00],\n",
       "       [4.60143347e-02, 3.47569469e-01, 0.00000000e+00, 1.15169300e-01,\n",
       "        0.00000000e+00],\n",
       "       [1.82781311e+00, 1.25518668e+00, 4.53251690e-01, 0.00000000e+00,\n",
       "        1.17073215e+00],\n",
       "       [0.00000000e+00, 0.00000000e+00, 8.52664902e-01, 4.45159338e-01,\n",
       "        0.00000000e+00],\n",
       "       [0.00000000e+00, 0.00000000e+00, 0.00000000e+00, 0.00000000e+00,\n",
       "        0.00000000e+00],\n",
       "       [0.00000000e+00, 0.00000000e+00, 0.00000000e+00, 6.60922055e-01,\n",
       "        0.00000000e+00],\n",
       "       [4.60143347e-02, 1.56815814e+00, 0.00000000e+00, 1.47320522e+00,\n",
       "        0.00000000e+00],\n",
       "       [0.00000000e+00, 0.00000000e+00, 0.00000000e+00, 0.00000000e+00,\n",
       "        0.00000000e+00],\n",
       "       [4.60143347e-02, 7.85729504e-01, 1.75399020e-01, 0.00000000e+00,\n",
       "        0.00000000e+00],\n",
       "       [0.00000000e+00, 2.19410104e+00, 4.35885898e-01, 0.00000000e+00,\n",
       "        6.45913543e-02],\n",
       "       [1.53084665e+00, 3.45980161e-02, 0.00000000e+00, 1.65936998e-01,\n",
       "        0.00000000e+00],\n",
       "       [9.36913723e-01, 1.19259239e+00, 0.00000000e+00, 0.00000000e+00,\n",
       "        5.75117873e-01],\n",
       "       [0.00000000e+00, 0.00000000e+00, 8.85700608e-02, 1.15169300e-01,\n",
       "        0.00000000e+00],\n",
       "       [4.60143347e-02, 6.58951615e-02, 0.00000000e+00, 9.41978774e-04,\n",
       "        1.49679107e-01],\n",
       "       [0.00000000e+00, 6.58951615e-02, 1.39100445e+00, 3.21199889e+00,\n",
       "        0.00000000e+00],\n",
       "       [3.42980797e-01, 1.06740381e+00, 4.03928771e+00, 8.51300923e-01,\n",
       "        6.45913543e-02],\n",
       "       [0.00000000e+00, 0.00000000e+00, 2.18813500e-01, 0.00000000e+00,\n",
       "        0.00000000e+00],\n",
       "       [0.00000000e+00, 1.28489452e-01, 5.22714857e-01, 2.29396620e-01,\n",
       "        0.00000000e+00],\n",
       "       [2.42174604e+00, 0.00000000e+00, 2.18813500e-01, 0.00000000e+00,\n",
       "        1.08564439e+00],\n",
       "       [6.39947260e-01, 0.00000000e+00, 6.61641192e-01, 0.00000000e+00,\n",
       "        6.60205626e-01],\n",
       "       [0.00000000e+00, 3.16272324e-01, 0.00000000e+00, 0.00000000e+00,\n",
       "        0.00000000e+00],\n",
       "       [2.71871250e+00, 7.54432359e-01, 2.62227979e-01, 0.00000000e+00,\n",
       "        2.02160968e+00],\n",
       "       [0.00000000e+00, 9.73512376e-01, 1.66885712e+00, 1.20667481e+00,\n",
       "        0.00000000e+00],\n",
       "       [1.23388019e+00, 0.00000000e+00, 0.00000000e+00, 8.51300923e-01,\n",
       "        7.45293379e-01],\n",
       "       [0.00000000e+00, 8.17026649e-01, 0.00000000e+00, 2.19664492e+00,\n",
       "        0.00000000e+00],\n",
       "       [0.00000000e+00, 2.22380888e-01, 8.87396486e-01, 1.43512945e+00,\n",
       "        0.00000000e+00],\n",
       "       [0.00000000e+00, 0.00000000e+00, 0.00000000e+00, 0.00000000e+00,\n",
       "        0.00000000e+00],\n",
       "       [0.00000000e+00, 0.00000000e+00, 0.00000000e+00, 0.00000000e+00,\n",
       "        0.00000000e+00],\n",
       "       [0.00000000e+00, 0.00000000e+00, 3.05642459e-01, 6.22846281e-01,\n",
       "        0.00000000e+00],\n",
       "       [6.39947260e-01, 2.28799248e+00, 0.00000000e+00, 0.00000000e+00,\n",
       "        2.19178518e+00],\n",
       "       [6.39947260e-01, 6.58951615e-02, 1.30417549e+00, 2.04012771e-01,\n",
       "        6.45913543e-02],\n",
       "       [0.00000000e+00, 0.00000000e+00, 7.12042689e-02, 0.00000000e+00,\n",
       "        0.00000000e+00],\n",
       "       [0.00000000e+00, 0.00000000e+00, 0.00000000e+00, 0.00000000e+00,\n",
       "        0.00000000e+00]])"
      ]
     },
     "execution_count": 40,
     "metadata": {},
     "output_type": "execute_result"
    }
   ],
   "source": [
    "X_test"
   ]
  },
  {
   "cell_type": "code",
   "execution_count": 4,
   "id": "a75d22a1",
   "metadata": {},
   "outputs": [],
   "source": [
    "import pandas as pd\n"
   ]
  },
  {
   "cell_type": "code",
   "execution_count": 5,
   "id": "666652c9",
   "metadata": {},
   "outputs": [],
   "source": [
    "from sklearn.ensemble import RandomForestClassifier\n"
   ]
  },
  {
   "cell_type": "code",
   "execution_count": 6,
   "id": "4992132f",
   "metadata": {},
   "outputs": [],
   "source": [
    "df = pd.read_csv(\"D:\\JANA\\AI Naan Mudhalavan\\Dataset\\diabetes.csv\")\n"
   ]
  },
  {
   "cell_type": "code",
   "execution_count": 7,
   "id": "dabee2ae",
   "metadata": {},
   "outputs": [],
   "source": [
    "X = df.drop(columns=[\"Outcome\"])\n",
    "y = df[\"Outcome\"]\n"
   ]
  },
  {
   "cell_type": "code",
   "execution_count": 8,
   "id": "a34d29c3",
   "metadata": {},
   "outputs": [],
   "source": [
    "clf = RandomForestClassifier()\n"
   ]
  },
  {
   "cell_type": "code",
   "execution_count": 9,
   "id": "765f8a55",
   "metadata": {},
   "outputs": [
    {
     "data": {
      "text/html": [
       "<style>#sk-container-id-1 {color: black;}#sk-container-id-1 pre{padding: 0;}#sk-container-id-1 div.sk-toggleable {background-color: white;}#sk-container-id-1 label.sk-toggleable__label {cursor: pointer;display: block;width: 100%;margin-bottom: 0;padding: 0.3em;box-sizing: border-box;text-align: center;}#sk-container-id-1 label.sk-toggleable__label-arrow:before {content: \"▸\";float: left;margin-right: 0.25em;color: #696969;}#sk-container-id-1 label.sk-toggleable__label-arrow:hover:before {color: black;}#sk-container-id-1 div.sk-estimator:hover label.sk-toggleable__label-arrow:before {color: black;}#sk-container-id-1 div.sk-toggleable__content {max-height: 0;max-width: 0;overflow: hidden;text-align: left;background-color: #f0f8ff;}#sk-container-id-1 div.sk-toggleable__content pre {margin: 0.2em;color: black;border-radius: 0.25em;background-color: #f0f8ff;}#sk-container-id-1 input.sk-toggleable__control:checked~div.sk-toggleable__content {max-height: 200px;max-width: 100%;overflow: auto;}#sk-container-id-1 input.sk-toggleable__control:checked~label.sk-toggleable__label-arrow:before {content: \"▾\";}#sk-container-id-1 div.sk-estimator input.sk-toggleable__control:checked~label.sk-toggleable__label {background-color: #d4ebff;}#sk-container-id-1 div.sk-label input.sk-toggleable__control:checked~label.sk-toggleable__label {background-color: #d4ebff;}#sk-container-id-1 input.sk-hidden--visually {border: 0;clip: rect(1px 1px 1px 1px);clip: rect(1px, 1px, 1px, 1px);height: 1px;margin: -1px;overflow: hidden;padding: 0;position: absolute;width: 1px;}#sk-container-id-1 div.sk-estimator {font-family: monospace;background-color: #f0f8ff;border: 1px dotted black;border-radius: 0.25em;box-sizing: border-box;margin-bottom: 0.5em;}#sk-container-id-1 div.sk-estimator:hover {background-color: #d4ebff;}#sk-container-id-1 div.sk-parallel-item::after {content: \"\";width: 100%;border-bottom: 1px solid gray;flex-grow: 1;}#sk-container-id-1 div.sk-label:hover label.sk-toggleable__label {background-color: #d4ebff;}#sk-container-id-1 div.sk-serial::before {content: \"\";position: absolute;border-left: 1px solid gray;box-sizing: border-box;top: 0;bottom: 0;left: 50%;z-index: 0;}#sk-container-id-1 div.sk-serial {display: flex;flex-direction: column;align-items: center;background-color: white;padding-right: 0.2em;padding-left: 0.2em;position: relative;}#sk-container-id-1 div.sk-item {position: relative;z-index: 1;}#sk-container-id-1 div.sk-parallel {display: flex;align-items: stretch;justify-content: center;background-color: white;position: relative;}#sk-container-id-1 div.sk-item::before, #sk-container-id-1 div.sk-parallel-item::before {content: \"\";position: absolute;border-left: 1px solid gray;box-sizing: border-box;top: 0;bottom: 0;left: 50%;z-index: -1;}#sk-container-id-1 div.sk-parallel-item {display: flex;flex-direction: column;z-index: 1;position: relative;background-color: white;}#sk-container-id-1 div.sk-parallel-item:first-child::after {align-self: flex-end;width: 50%;}#sk-container-id-1 div.sk-parallel-item:last-child::after {align-self: flex-start;width: 50%;}#sk-container-id-1 div.sk-parallel-item:only-child::after {width: 0;}#sk-container-id-1 div.sk-dashed-wrapped {border: 1px dashed gray;margin: 0 0.4em 0.5em 0.4em;box-sizing: border-box;padding-bottom: 0.4em;background-color: white;}#sk-container-id-1 div.sk-label label {font-family: monospace;font-weight: bold;display: inline-block;line-height: 1.2em;}#sk-container-id-1 div.sk-label-container {text-align: center;}#sk-container-id-1 div.sk-container {/* jupyter's `normalize.less` sets `[hidden] { display: none; }` but bootstrap.min.css set `[hidden] { display: none !important; }` so we also need the `!important` here to be able to override the default hidden behavior on the sphinx rendered scikit-learn.org. See: https://github.com/scikit-learn/scikit-learn/issues/21755 */display: inline-block !important;position: relative;}#sk-container-id-1 div.sk-text-repr-fallback {display: none;}</style><div id=\"sk-container-id-1\" class=\"sk-top-container\"><div class=\"sk-text-repr-fallback\"><pre>RandomForestClassifier()</pre><b>In a Jupyter environment, please rerun this cell to show the HTML representation or trust the notebook. <br />On GitHub, the HTML representation is unable to render, please try loading this page with nbviewer.org.</b></div><div class=\"sk-container\" hidden><div class=\"sk-item\"><div class=\"sk-estimator sk-toggleable\"><input class=\"sk-toggleable__control sk-hidden--visually\" id=\"sk-estimator-id-1\" type=\"checkbox\" checked><label for=\"sk-estimator-id-1\" class=\"sk-toggleable__label sk-toggleable__label-arrow\">RandomForestClassifier</label><div class=\"sk-toggleable__content\"><pre>RandomForestClassifier()</pre></div></div></div></div></div>"
      ],
      "text/plain": [
       "RandomForestClassifier()"
      ]
     },
     "execution_count": 9,
     "metadata": {},
     "output_type": "execute_result"
    }
   ],
   "source": [
    "clf.fit(X, y)"
   ]
  },
  {
   "cell_type": "code",
   "execution_count": 10,
   "id": "4a8564cc",
   "metadata": {},
   "outputs": [],
   "source": [
    "from sklearn.model_selection import train_test_split"
   ]
  },
  {
   "cell_type": "code",
   "execution_count": 11,
   "id": "e64cea6e",
   "metadata": {},
   "outputs": [],
   "source": [
    "X_train, X_test, y_train, y_test = train_test_split(X, y, test_size=0.25, random_state=42)"
   ]
  },
  {
   "cell_type": "code",
   "execution_count": 12,
   "id": "9f158916",
   "metadata": {},
   "outputs": [],
   "source": [
    "y_pred = clf.predict(X_test)"
   ]
  },
  {
   "cell_type": "code",
   "execution_count": 13,
   "id": "c86c4c28",
   "metadata": {},
   "outputs": [],
   "source": [
    "accuracy = clf.score(X_test, y_test)"
   ]
  },
  {
   "cell_type": "code",
   "execution_count": 14,
   "id": "148aec85",
   "metadata": {},
   "outputs": [
    {
     "name": "stdout",
     "output_type": "stream",
     "text": [
      "Accuracy: 1.0\n"
     ]
    }
   ],
   "source": [
    "print(\"Accuracy:\", accuracy)"
   ]
  },
  {
   "cell_type": "code",
   "execution_count": null,
   "id": "1134435d",
   "metadata": {},
   "outputs": [],
   "source": []
  }
 ],
 "metadata": {
  "kernelspec": {
   "display_name": "Python 3 (ipykernel)",
   "language": "python",
   "name": "python3"
  },
  "language_info": {
   "codemirror_mode": {
    "name": "ipython",
    "version": 3
   },
   "file_extension": ".py",
   "mimetype": "text/x-python",
   "name": "python",
   "nbconvert_exporter": "python",
   "pygments_lexer": "ipython3",
   "version": "3.11.2"
  }
 },
 "nbformat": 4,
 "nbformat_minor": 5
}
